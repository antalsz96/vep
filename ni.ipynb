{
 "cells": [
  {
   "cell_type": "code",
   "execution_count": null,
   "metadata": {},
   "outputs": [],
   "source": [
    "import nidaqmx\n",
    "from psychopy import visual"
   ]
  },
  {
   "cell_type": "code",
   "execution_count": 14,
   "metadata": {},
   "outputs": [],
   "source": [
    "with nidaqmx.Task() as task:\n",
    "\n",
    "    task._ai_channels"
   ]
  },
  {
   "cell_type": "code",
   "execution_count": 8,
   "metadata": {},
   "outputs": [
    {
     "name": "stdout",
     "output_type": "stream",
     "text": [
      "DriverVersion(major_version=18, minor_version=5, update_version=0)\n",
      "Device(name=Dev2)\n"
     ]
    }
   ],
   "source": [
    "system = nidaqmx.system.System.local()\n",
    "print(system.driver_version)\n",
    "for device in system.devices:\n",
    "    print(device)"
   ]
  },
  {
   "cell_type": "code",
   "execution_count": 66,
   "metadata": {},
   "outputs": [
    {
     "name": "stdout",
     "output_type": "stream",
     "text": [
      "PhysicalChannel(name=Dev2/port0/line0, Dev2/port0/line1, Dev2/port0/line2)\n",
      "PhysicalChannel(name=Dev2/port1/line0, Dev2/port1/line1, Dev2/port1/line2)\n"
     ]
    },
    {
     "ename": "DaqError",
     "evalue": "Write cannot be performed, because the number of channels in the data does not match the number of channels in the task.\n\nWhen writing, supply data for all channels in the task. Alternatively, modify the task to contain the same number of channels as the data written.\n\nNumber of Channels in Task: 2\nNumber of Channels in Data: 1\n\nTask Name: _unnamedTask<2E>",
     "output_type": "error",
     "traceback": [
      "\u001b[1;31m---------------------------------------------------------------------------\u001b[0m",
      "\u001b[1;31mDaqError\u001b[0m                                  Traceback (most recent call last)",
      "\u001b[1;32m<ipython-input-66-e63a6faa944a>\u001b[0m in \u001b[0;36m<module>\u001b[1;34m\u001b[0m\n\u001b[0;32m      5\u001b[0m     \u001b[0mprint\u001b[0m\u001b[1;33m(\u001b[0m\u001b[0mchannel\u001b[0m\u001b[1;33m.\u001b[0m\u001b[0mphysical_channel\u001b[0m\u001b[1;33m)\u001b[0m\u001b[1;33m\u001b[0m\u001b[0m\n\u001b[0;32m      6\u001b[0m \u001b[1;33m\u001b[0m\u001b[0m\n\u001b[1;32m----> 7\u001b[1;33m \u001b[0mtask\u001b[0m\u001b[1;33m.\u001b[0m\u001b[0mwrite\u001b[0m\u001b[1;33m(\u001b[0m\u001b[1;36m3\u001b[0m\u001b[1;33m)\u001b[0m\u001b[1;33m\u001b[0m\u001b[0m\n\u001b[0m\u001b[0;32m      8\u001b[0m \u001b[0mtask\u001b[0m\u001b[1;33m.\u001b[0m\u001b[0mread\u001b[0m\u001b[1;33m(\u001b[0m\u001b[1;33m)\u001b[0m\u001b[1;33m\u001b[0m\u001b[0m\n\u001b[0;32m      9\u001b[0m \u001b[1;31m# nidaqmx._task_modules.channels.channel.Channel.channel_names\u001b[0m\u001b[1;33m\u001b[0m\u001b[1;33m\u001b[0m\u001b[0m\n",
      "\u001b[1;32m~\\AppData\\Roaming\\Python\\Python36\\site-packages\\nidaqmx\\task.py\u001b[0m in \u001b[0;36mwrite\u001b[1;34m(self, data, auto_start, timeout)\u001b[0m\n\u001b[0;32m   1220\u001b[0m             \u001b[1;32melse\u001b[0m\u001b[1;33m:\u001b[0m\u001b[1;33m\u001b[0m\u001b[0m\n\u001b[0;32m   1221\u001b[0m                 self._raise_invalid_write_num_chans_error(\n\u001b[1;32m-> 1222\u001b[1;33m                     number_of_channels, 1)\n\u001b[0m\u001b[0;32m   1223\u001b[0m \u001b[1;33m\u001b[0m\u001b[0m\n\u001b[0;32m   1224\u001b[0m         \u001b[1;32mif\u001b[0m \u001b[0mauto_start\u001b[0m \u001b[1;32mis\u001b[0m \u001b[0mAUTO_START_UNSET\u001b[0m\u001b[1;33m:\u001b[0m\u001b[1;33m\u001b[0m\u001b[0m\n",
      "\u001b[1;32m~\\AppData\\Roaming\\Python\\Python36\\site-packages\\nidaqmx\\task.py\u001b[0m in \u001b[0;36m_raise_invalid_write_num_chans_error\u001b[1;34m(self, number_of_channels, number_of_channels_in_data)\u001b[0m\n\u001b[0;32m   1099\u001b[0m             \u001b[1;34m'Number of Channels in Data: {1}'\u001b[0m\u001b[1;33m\u001b[0m\u001b[0m\n\u001b[0;32m   1100\u001b[0m             \u001b[1;33m.\u001b[0m\u001b[0mformat\u001b[0m\u001b[1;33m(\u001b[0m\u001b[0mnumber_of_channels\u001b[0m\u001b[1;33m,\u001b[0m \u001b[0mnumber_of_channels_in_data\u001b[0m\u001b[1;33m)\u001b[0m\u001b[1;33m,\u001b[0m\u001b[1;33m\u001b[0m\u001b[0m\n\u001b[1;32m-> 1101\u001b[1;33m             DAQmxErrors.WRITE_NUM_CHANS_MISMATCH.value, task_name=self.name)\n\u001b[0m\u001b[0;32m   1102\u001b[0m \u001b[1;33m\u001b[0m\u001b[0m\n\u001b[0;32m   1103\u001b[0m     \u001b[1;32mdef\u001b[0m \u001b[0mwrite\u001b[0m\u001b[1;33m(\u001b[0m\u001b[0mself\u001b[0m\u001b[1;33m,\u001b[0m \u001b[0mdata\u001b[0m\u001b[1;33m,\u001b[0m \u001b[0mauto_start\u001b[0m\u001b[1;33m=\u001b[0m\u001b[0mAUTO_START_UNSET\u001b[0m\u001b[1;33m,\u001b[0m \u001b[0mtimeout\u001b[0m\u001b[1;33m=\u001b[0m\u001b[1;36m10.0\u001b[0m\u001b[1;33m)\u001b[0m\u001b[1;33m:\u001b[0m\u001b[1;33m\u001b[0m\u001b[0m\n",
      "\u001b[1;31mDaqError\u001b[0m: Write cannot be performed, because the number of channels in the data does not match the number of channels in the task.\n\nWhen writing, supply data for all channels in the task. Alternatively, modify the task to contain the same number of channels as the data written.\n\nNumber of Channels in Task: 2\nNumber of Channels in Data: 1\n\nTask Name: _unnamedTask<2E>"
     ]
    }
   ],
   "source": [
    "task = nidaqmx.Task()\n",
    "task.do_channels.add_do_chan(\"Dev2/port0/line0:2\")\n",
    "task.do_channels.add_do_chan(\"Dev2/port1/line0:2\")\n",
    "for channel in task.do_channels:\n",
    "    print(channel.physical_channel)\n",
    "\n",
    "task.write(3)\n",
    "task.read()\n",
    "# nidaqmx._task_modules.channels.channel.Channel.channel_names\n",
    "\n",
    "# val = 0\n",
    "# while 0 <= val <= 7:\n",
    "#     task.write(val)\n",
    "#     val = int(input(\"Enter bw 0-7\"))\n",
    "\n",
    "# task.write(0)\n",
    "task.close()"
   ]
  }
 ],
 "metadata": {
  "interpreter": {
   "hash": "5f4619028fe9c9c2f1a1bafbbde403566cf36f8024a809681f03790b48f4efc6"
  },
  "kernelspec": {
   "display_name": "Python 3.6.6 64-bit (system)",
   "language": "python",
   "name": "python3"
  },
  "language_info": {
   "codemirror_mode": {
    "name": "ipython",
    "version": 3
   },
   "file_extension": ".py",
   "mimetype": "text/x-python",
   "name": "python",
   "nbconvert_exporter": "python",
   "pygments_lexer": "ipython3",
   "version": "3.6.6"
  },
  "orig_nbformat": 4
 },
 "nbformat": 4,
 "nbformat_minor": 2
}
